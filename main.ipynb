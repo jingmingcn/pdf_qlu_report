{
 "cells": [
  {
   "cell_type": "code",
   "execution_count": 6,
   "id": "f4f3f32c-b815-493f-b218-ee65897d31e4",
   "metadata": {},
   "outputs": [],
   "source": [
    "import csv\n",
    "import fitz\n",
    "import os\n",
    "\n",
    "bordercolor = (0.88,0.88,0.88)\n",
    "border_rect = fitz.Rect(40,140,550,350)\n",
    "text_rect = fitz.Rect(50,150,550,350)\n",
    "image_rect = fitz.Rect(350,360,550,450)\n",
    "image_name = \"jingming_sig.png\"\n",
    "\n",
    "red = (0.88,0,0)\n",
    "\n",
    "with open('data.csv', newline='') as csvfile:\n",
    "    spamreader = csv.DictReader(csvfile, delimiter=',', quotechar='|')\n",
    "    for row in spamreader:\n",
    "        filename = row['filename']\n",
    "        num = row['num']\n",
    "        score = row['score']\n",
    "        text = row['report']\n",
    "        \n",
    "        inputfile = \"input/\"+filename+\".pdf\"\n",
    "        outputfile = \"output/\"+filename+\".pdf\"\n",
    "        \n",
    "        if not os.path.isfile(inputfile) or os.path.isfile(outputfile):\n",
    "            continue\n",
    "        \n",
    "        doc = fitz.open(inputfile)  # new or existing PDF\n",
    "        page = doc.new_page()  # new or existing page via doc[n]\n",
    "        # p = fitz.Point(60, 130)  # start point of 1st line\n",
    "        \n",
    "        \n",
    "        shape = page.new_shape()  # create Shape\n",
    "        shape.draw_rect(border_rect)  # draw rectangles\n",
    "        shape.finish(width = 0.3, color = bordercolor)\n",
    "        \n",
    "        shape.insert_textbox(fitz.Rect(250,100,350,200),\"指导老师评语\",fontname = \"china-ss\", fontsize=14, color = red)\n",
    "\n",
    "        shape.insert_textbox(text_rect, text, fontname = \"china-ss\", color = (.1,.1,.1))\n",
    "        \n",
    "        shape.insert_textbox(fitz.Rect(50,360,550,450),\"综合评定成绩：\"+score,fontname = \"china-ss\", fontsize=14, color = red)\n",
    "\n",
    "        shape.commit()\n",
    "        \n",
    "        page.insert_image(image_rect,filename=image_name)\n",
    "\n",
    "        doc.save(outputfile)\n",
    "        \n",
    "        "
   ]
  },
  {
   "cell_type": "code",
   "execution_count": null,
   "id": "3fd52190-b517-4dc9-904e-735b13aad89f",
   "metadata": {},
   "outputs": [],
   "source": []
  }
 ],
 "metadata": {
  "kernelspec": {
   "display_name": "pdfenv",
   "language": "python",
   "name": "pdfenv"
  },
  "language_info": {
   "codemirror_mode": {
    "name": "ipython",
    "version": 3
   },
   "file_extension": ".py",
   "mimetype": "text/x-python",
   "name": "python",
   "nbconvert_exporter": "python",
   "pygments_lexer": "ipython3",
   "version": "3.11.0"
  }
 },
 "nbformat": 4,
 "nbformat_minor": 5
}
